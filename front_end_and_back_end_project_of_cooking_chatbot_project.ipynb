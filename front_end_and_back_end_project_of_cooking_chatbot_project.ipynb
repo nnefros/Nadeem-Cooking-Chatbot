{
 "cells": [
  {
   "cell_type": "code",
   "execution_count": 1,
   "id": "ec4519d4",
   "metadata": {
    "id": "ec4519d4",
    "outputId": "690a1a7c-5da1-4ae4-f211-cff3781eb023"
   },
   "outputs": [
    {
     "name": "stdout",
     "output_type": "stream",
     "text": [
      "Note: you may need to restart the kernel to use updated packages.\n"
     ]
    },
    {
     "name": "stderr",
     "output_type": "stream",
     "text": [
      "ERROR: Could not find a version that satisfies the requirement tkinter (from versions: none)\n",
      "ERROR: No matching distribution found for tkinter\n",
      "\n",
      "[notice] A new release of pip available: 22.3.1 -> 23.0.1\n",
      "[notice] To update, run: C:\\Users\\nadee\\AppData\\Local\\Programs\\Python\\Python39\\python.exe -m pip install --upgrade pip\n"
     ]
    }
   ],
   "source": [
    "pip install tkinter"
   ]
  },
  {
   "cell_type": "code",
   "execution_count": 4,
   "id": "5fef9644",
   "metadata": {
    "colab": {
     "base_uri": "https://localhost:8080/",
     "height": 365
    },
    "id": "5fef9644",
    "outputId": "f1562899-c336-4362-ef1a-bed831a8a0a8"
   },
   "outputs": [],
   "source": [
    "from tkinter import *\n",
    "\n",
    "import pyttsx3\n",
    "\n",
    "root = Tk()\n",
    "root.title(\"Chatbot\")\n",
    "def speaktext(command):\n",
    "    txt=pyttsx3.init()\n",
    "    txt.say(command)\n",
    "    txt.runAndWait()\n",
    " \n",
    "BG_GRAY = \"#ABB2B9\"\n",
    "BG_COLOR = \"#17202A\"\n",
    "TEXT_COLOR = \"#EAECEE\"\n",
    " \n",
    "FONT = \"Helvetica 14\"\n",
    "FONT_BOLD = \"Helvetica 13 bold\"\n",
    " \n",
    "def send():\n",
    "    send = \"You -> \" + e.get()\n",
    "    txt.insert(END, \"\\n\" + send)\n",
    " \n",
    "    user = e.get().lower()\n",
    " \n",
    "    if (user == \"hello\"):\n",
    "        speaktext(user)\n",
    "        txt.insert(END, \"\\n\" + \"Bot -> Hi there, how can I help?\")\n",
    "        speaktext('Hi there, how can I help?')\n",
    "    elif (user == \"hi\" or user == \"hii\" or user == \"hiiii\"):\n",
    "        speaktext(user)\n",
    "        txt.insert(END, \"\\n\" + \"Bot -> Hi there, what can I do for you?\")\n",
    "        speaktext('Hi there, what can I do for you?')\n",
    " \n",
    "    elif (user == \"how are you?\"):\n",
    "        speaktext(user)\n",
    "        txt.insert(END, \"\\n\" + \"Bot -> fine thank you\")\n",
    "        speaktext('fine thank you')\n",
    " \n",
    "    elif (user == \"fine\" or user == \"i am good\" or user == \"good\"):\n",
    "        speaktext(user)\n",
    "        txt.insert(END, \"\\n\" + \"Bot -> Great! how can I help you?.\")\n",
    "        speaktext('Great! how can I help you?')\n",
    " \n",
    "    elif (user == \"how can i make a burger?\" or user == \"steps to make a burger\" or user == \"give me 3 short steps to make a burger\"):\n",
    "        speaktext(user)\n",
    "        txt.insert(END, \"\\n\" + \"Bot -> Gather all the ingredients you need to make your burger: a bun, patty, any desired condiments and toppings, and a selection of cheeses.Heat a non-stick pan over medium heat and cook the patty for 4-5 minutes on each side.To assemble the burger, place the patty\")\n",
    "        speaktext('Gather all the ingredients you need to make your burger: a bun, patty, any desired condiments and toppings, and a selection of cheeses.Heat a non-stick pan over medium heat and cook the patty for 4-5 minutes on each side.To assemble the burger, place the patty')\n",
    " \n",
    "    elif (user == \"how to make french fries\" or user == \"steps to make french fries\" or user == \"short steps to make french. fries\"):\n",
    "        speaktext(user)\n",
    "        txt.insert(END, \"\\n\" + \"Bot -> Peel and cut potatoes into thin strips. Soak the potatoes in cold water for 30 minutes. Heat oil in a deep fryer or a large skillet. Fry the potatoes in batches until golden brown. Remove from heat and sprinkle with salt. Enjoy\")\n",
    "        speaktext('Peel and cut potatoes into thin strips. Soak the potatoes in cold water for 30 minutes. Heat oil in a deep fryer or a large skillet. Fry the potatoes in batches until golden brown. Remove from heat and sprinkle with salt. Enjoy')\n",
    "\n",
    "                  \n",
    "    elif (user == \"short steps to make chicken wings\" or user == \"how can i make chicken wings?\" or user == \"steps to make chicken wings\"):\n",
    "        speaktext(user)\n",
    "        txt.insert(\n",
    "            END, \"\\n\" + \"Bot -> Preheat your oven to 375 degrees Fahrenheit. Place your chicken wings on a baking sheet.Drizzle with oil and add your favorite seasonings. Bake for 30 minutes, turning halfway through. Once golden brown, remove from oven and enjoy.\")\n",
    "        speaktext('Preheat your oven to 375 degrees Fahrenheit. Place your chicken wings on a baking sheet.Drizzle with oil and add your favorite seasonings. Bake for 30 minutes, turning halfway through. Once golden brown, remove from oven and enjoy.')\n",
    "\n",
    "                  \n",
    "    elif (user == \"goodbye\" or user == \"see u\" or user == \"see yaa\"):\n",
    "        speaktext(user)\n",
    "        txt.insert(END, \"\\n\" + \"Bot -> see ya later\")\n",
    "        speaktext('see ya later')\n",
    " \n",
    "    else:\n",
    "        txt.insert(END, \"\\n\" + \"Bot -> what do you mean?\")\n",
    "        speaktext('what do you mean?')\n",
    " \n",
    "    e.delete(0, END)\n",
    " \n",
    " \n",
    "lable1 = Label(root, bg=BG_COLOR, fg=TEXT_COLOR, text=\"Welcome\", font=FONT_BOLD, pady=10, width=20, height=1).grid(\n",
    "    row=0)\n",
    " \n",
    "txt = Text(root, bg=BG_COLOR, fg=TEXT_COLOR, font=FONT, width=60)\n",
    "txt.grid(row=1, column=0, columnspan=2)\n",
    " \n",
    "scrollbar = Scrollbar(txt)\n",
    "scrollbar.place(relheight=1, relx=0.974)\n",
    "e = Entry(root, bg=\"#2C3E50\", fg=TEXT_COLOR, font=FONT, width=55)\n",
    "e.grid(row=2, column=0)\n",
    " \n",
    "send = Button(root, text=\"Send\", font=FONT_BOLD, bg=BG_GRAY,\n",
    "              command=send).grid(row=2, column=1)\n",
    " \n",
    "root.mainloop()"
   ]
  },
  {
   "cell_type": "code",
   "execution_count": null,
   "id": "0d6e08ac",
   "metadata": {
    "id": "0d6e08ac"
   },
   "outputs": [],
   "source": []
  },
  {
   "cell_type": "code",
   "execution_count": null,
   "id": "7edec90b",
   "metadata": {
    "id": "7edec90b"
   },
   "outputs": [],
   "source": []
  }
 ],
 "metadata": {
  "colab": {
   "provenance": []
  },
  "kernelspec": {
   "display_name": "Python 3 (ipykernel)",
   "language": "python",
   "name": "python3"
  },
  "language_info": {
   "codemirror_mode": {
    "name": "ipython",
    "version": 3
   },
   "file_extension": ".py",
   "mimetype": "text/x-python",
   "name": "python",
   "nbconvert_exporter": "python",
   "pygments_lexer": "ipython3",
   "version": "3.9.7"
  }
 },
 "nbformat": 4,
 "nbformat_minor": 5
}
